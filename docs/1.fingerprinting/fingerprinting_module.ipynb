{
 "cells": [
  {
   "attachments": {},
   "cell_type": "markdown",
   "metadata": {},
   "source": [
    "# Fingerprinting analysis - Matrix-like data\n",
    "\n",
    "How do you use the fingerprinting module of `sihnpy`?\n",
    "\n",
    "We demonstrate a typical **fingerprinting** analysis using `sihnpy`. You can run these analyses by building a script like we do below in a Python script or in a Jupyter Notebook. In the case where you need to run this analysis on a high number of participants or on very high dimensional data (>160,000 features per participants), I recommend using a command-line script (ADD THE REF TO THE NOTEBOOK HERE).\n",
    "\n",
    "Note that the steps above are specific to the matrix-like data (e.g., functional or structural connectivity, covariance matrix, etc.). If you have table-like data (e.g., volume by region), a different method is required. (ADD REF TO THE NOTEBOOK HERE).\n",
    "\n",
    "## 1. Preparing the data\n",
    "\n",
    "To run a fingerprinting analysis, we need three things:\n",
    "* The path to a list of participants to analyze\n",
    "* The path to the folder containing the matrices of the first session of brain imaging\n",
    "* The path to the folder containing the matrices of the second session brain imaging\n",
    "\n",
    "If you already have the above for your data, you can skip ahead to 2. Otherwise, `sihnpy` also offers a small sample of data simulated using `numpy` and `pandas` to practice using the functions.\n",
    "\n",
    "To get the simulated data for fingerprinting, you can run the following code:"
   ]
  },
  {
   "cell_type": "code",
   "execution_count": 1,
   "metadata": {},
   "outputs": [
    {
     "name": "stdout",
     "output_type": "stream",
     "text": [
      "/Users/stong3/Desktop/sihnpy/src/sihnpy/data/fingerprinting/fp_simulated_id_list.csv\n",
      "/Users/stong3/Desktop/sihnpy/src/sihnpy/data/fingerprinting/matrices_simulated_mod1\n",
      "/Users/stong3/Desktop/sihnpy/src/sihnpy/data/fingerprinting/matrices_simulated_mod2\n"
     ]
    }
   ],
   "source": [
    "from sihnpy.datasets import get_fingerprint_simulated_data\n",
    "\n",
    "id_list, path_mod1, path_mod2 = get_fingerprint_simulated_data()"
   ]
  },
  {
   "cell_type": "markdown",
   "metadata": {},
   "source": [
    "This outputs three things:\n",
    "* The path to the list of IDs of participants (`id_list`)\n",
    "* The path to the folder containing the matrices of the first session of brain imaging (`path_mod1`)\n",
    "* The path to the folder containing the matrices of the second session of brain imaging (`path_mod2`)\n",
    "\n",
    "These are the only mandatory input necessary for the fingerprinting to launch.\n",
    "\n",
    "---\n",
    "### 2. Importing the data\n",
    "\n",
    "The first step in running the fingerprinting analysis is to import the libraries needed and the data. We use `import_fingerprint_ids` to import the list of participants. "
   ]
  },
  {
   "cell_type": "code",
   "execution_count": 3,
   "metadata": {},
   "outputs": [
    {
     "name": "stdout",
     "output_type": "stream",
     "text": [
      "['01a' '02a' '03a' '04a' '05a' '06a' '07a' '08a' '09a' '010a']\n"
     ]
    }
   ],
   "source": [
    "from sihnpy import fingerprinting as s_fp\n",
    "\n",
    "list_of_ids = s_fp.import_fingerprint_ids(id_list) #Here we put the path to the list of IDs. Since we are using data within sihnpy, we just use the variable we got earlier.\n",
    "print(list_of_ids)"
   ]
  },
  {
   "cell_type": "markdown",
   "metadata": {},
   "source": [
    "The function `import_fingerprint_ids` is a general utility function wrapped around `pandas.read_csv()` and `numpy.loadtxt()` functions. It accepts files ending with `.csv`, `.tsv` and `.txt`. The script then takes the first column in the data and returns it as a list of participant that we use in the rest of the analyses.\n",
    "\n",
    "```{warning}\n",
    "The script takes the first column of the dataframe as the column containing participants' IDs **OR** takes a text file of 1 ID number per line. As such, you need to insure that your input is correct. \n",
    "\n",
    "This step is critical for the fingerprinting. If the list of participant does not match the the name of the files for the matrices, `sihnpy` will not be able to import the matrices. \n",
    "\n",
    "**You should always check that the list of ids is what is expected after a first run**\n",
    "\n",
    "```\n",
    "\n",
    "In our simulated data, we can see that we have 10 participants ranging from ID `01a` to `010a`. "
   ]
  },
  {
   "cell_type": "markdown",
   "metadata": {},
   "source": [
    "### 3. Create a \"fingerprinting object\"\n",
    "\n",
    "This title sounds a bit fancy, but the idea is simple: we need to store our list of participants and the paths where to get the matrices in a single python object. I won't get in the specifics, but just know that it streamlines some processes down the line.\n",
    "\n",
    "The code is pretty simple: we just give the list of participant IDs, and the two paths to `FingerprintMats`. The code then takes this and creates prepares the field for the rest of our computations."
   ]
  },
  {
   "cell_type": "code",
   "execution_count": 4,
   "metadata": {},
   "outputs": [
    {
     "name": "stdout",
     "output_type": "stream",
     "text": [
      "/Users/stong3/Desktop/sihnpy/src/sihnpy/data/fingerprinting/matrices_simulated_mod1\n"
     ]
    }
   ],
   "source": [
    "fp_mats = s_fp.FingerprintMats(list_of_ids, path_mod1, path_mod2)"
   ]
  },
  {
   "cell_type": "markdown",
   "metadata": {},
   "source": [
    "### 4. File and subject selection\n",
    "\n",
    "The idea here is that we want to list and store all the names of the matrices to be used in the **fingerprinting**. This is used to simplify the process of selecting matrices when doing the **fingerprinting**.\n",
    "\n",
    "```{warning}\n",
    "As of now, the **fingerprinting** only works when there is the same number of participants in both folders. Future functionalities should allevitate this, but in the mean time, you need to make sure that there is the same number of files in both folders.\n",
    "```\n",
    "\n",
    "Do not give any argument to the function."
   ]
  },
  {
   "cell_type": "code",
   "execution_count": 5,
   "metadata": {},
   "outputs": [
    {
     "name": "stdout",
     "output_type": "stream",
     "text": [
      "['mat_06a.txt', 'mat_07a.txt', 'mat_01a.txt', 'mat_02a.txt', 'mat_03a.txt', 'mat_010a.txt', 'mat_04a.txt', 'mat_08a.txt', 'mat_09a.txt', 'mat_05a.txt']\n",
      "['mat_06a.txt', 'mat_07a.txt', 'mat_01a.txt', 'mat_02a.txt', 'mat_03a.txt', 'mat_010a.txt', 'mat_04a.txt', 'mat_08a.txt', 'mat_09a.txt', 'mat_05a.txt']\n"
     ]
    }
   ],
   "source": [
    "fp_mats.fetch_matrice_file_names()\n",
    "print(fp_mats.files_m1) #Print the file names of the first modality\n",
    "print(fp_mats.files_m2) #Print the file names of the second modality"
   ]
  },
  {
   "cell_type": "markdown",
   "metadata": {},
   "source": [
    "Once we have these lists, we intersect it with our subject list. This will confirm how many participants we will keep in the end."
   ]
  },
  {
   "cell_type": "code",
   "execution_count": 6,
   "metadata": {},
   "outputs": [
    {
     "name": "stdout",
     "output_type": "stream",
     "text": [
      "We have 10 subjects in the list.\n",
      "We have in total 10 & 10 participants with both modalities.\n"
     ]
    }
   ],
   "source": [
    "fp_mats.subject_selection()"
   ]
  },
  {
   "cell_type": "markdown",
   "metadata": {},
   "source": [
    "Once the subject selection is done, we can move on to computing the fingerpriting.\n",
    "\n",
    "```{important}\n",
    "Currently, the script will throw errors in three situations:\n",
    "* If the number of matrices in either folders is not matching between modalities\n",
    "* If modality one and modality two is returning 0 files (the IDs from the list didn't match any file)\n",
    "* If there are duplicated matrices within modality 1 or modality 2\n",
    "\n",
    "Make sure to double check your files if you get this error.\n",
    "```"
   ]
  },
  {
   "cell_type": "markdown",
   "metadata": {},
   "source": [
    "### 5. Fingerprinting \n",
    "\n",
    "This function is the core of the fingerprinting method. It imports and correlates the values from the matrices from both modalities between all participants. The only argument it requires is to specify what are the nodes (i.e., columns/rows pairs) to consider in the analyses. By default, we usually fingerprint using within-network connections. Whole brain = number of columns.\n",
    "\n",
    "In the simulated data, "
   ]
  }
 ],
 "metadata": {
  "kernelspec": {
   "display_name": "Python 3.9.13 ('sihnpy')",
   "language": "python",
   "name": "python3"
  },
  "language_info": {
   "codemirror_mode": {
    "name": "ipython",
    "version": 3
   },
   "file_extension": ".py",
   "mimetype": "text/x-python",
   "name": "python",
   "nbconvert_exporter": "python",
   "pygments_lexer": "ipython3",
   "version": "3.9.13 (main, Oct 13 2022, 16:12:19) \n[Clang 12.0.0 ]"
  },
  "orig_nbformat": 4,
  "vscode": {
   "interpreter": {
    "hash": "6609ae1a12645b6ac2d01ad6f0e12dc1593241292df5c1c65bf0358a8d098f54"
   }
  }
 },
 "nbformat": 4,
 "nbformat_minor": 2
}
