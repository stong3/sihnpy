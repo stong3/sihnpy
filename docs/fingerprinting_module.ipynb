{
 "cells": [
  {
   "cell_type": "markdown",
   "metadata": {},
   "source": [
    "# Fingerprinting module\n",
    "-----\n",
    "\n",
    "```{note}\n",
    "This code is under active development. Future example will include real data instead of randomly generated data.\n",
    "```\n",
    "\n",
    "## 1. Introduction\n",
    "\n",
    "Many of currently used statistical analyses rely on the assumption that **brains of similar individuals are relatively homogenous**; meaning that individuals can be grouped together in relative confidence.\n",
    "\n",
    "However, many studies, mainly in the field of functional magnetic resonance imaging **(REF MUELLER/REFS FP)**, have now highlighted that individuals in groups thought to be homogenous show significant within-group differences.\n",
    "\n",
    "This is what prompted the development of the original fingerprinting methodology by [Finn et al. (2015)](https://www.nature.com/articles/nn.4135). Fingerprinting aims to derive brain signatures unique to each individuals, by (FINISH EXPLAINING) + ADD FIGURE HERE\n"
   ]
  },
  {
   "cell_type": "markdown",
   "metadata": {},
   "source": [
    "## 2. General definitions and usage\n",
    "\n",
    "Below is a set of definitions for terms used in this module\n",
    "\n",
    "```{admonition} Definitions\n",
    "\n",
    "- Fingerprinting accuracy: whether a given individual was identified using a different brain imaging session\n",
    "- Fingerprint strength: within-individual correlation of two brain imaging sessions\n",
    "- Alikeness coefficient: between-individual correlation of two brain imaging sessions\n",
    "- Identifiability: definition from [Amico et al. (2015)](https://doi.org/10.1038/s41598-018-25089-1), where identifiability is the difference between the fingerprint strength and the alikeness coefficient.\n",
    "\n",
    "```\n"
   ]
  },
  {
   "cell_type": "markdown",
   "metadata": {},
   "source": [
    "## 3. Data example set-up\n",
    "\n",
    "To demonstrate how to use the fingerprinting module, we created a small sample of simulated data with `numpy` and `pandas`. This data ships with `sinhpy` and can be used to test functionalities of the package.\n",
    "\n",
    "To get the simulated data for fingerprinting, you can run the following code"
   ]
  },
  {
   "cell_type": "code",
   "execution_count": 1,
   "metadata": {},
   "outputs": [
    {
     "name": "stdout",
     "output_type": "stream",
     "text": [
      "/Users/stong3/Desktop/sihnpy/src/sihnpy/data/fingerprinting/fp_simulated_id_list.csv\n",
      "/Users/stong3/Desktop/sihnpy/src/sihnpy/data/fingerprinting/matrices_simulated_mod1\n",
      "/Users/stong3/Desktop/sihnpy/src/sihnpy/data/fingerprinting/matrices_simulated_mod2\n"
     ]
    }
   ],
   "source": [
    "from sihnpy.datasets import get_fingerprint_simulated_data\n",
    "\n",
    "id_list, path_mod1, path_mod2 = get_fingerprint_simulated_data()"
   ]
  },
  {
   "cell_type": "markdown",
   "metadata": {},
   "source": [
    "This outputs three things:\n",
    "* The path to the list of IDs of participants\n",
    "* The path to the folder containing the matrices of the first session of brain imaging\n",
    "* The path to the folder containing the matrices of the second session of brain imaging\n",
    "\n",
    "These are the only mandatory input necessary for the fingerprinting to launch.\n",
    "\n",
    "---\n",
    "## 4. Running the fingerprinting analyses locally\n",
    "\n",
    "The code below provides a step-by-step overview of how to do the fingerprinting analysis. We propose two methods depending on the scope of the desired analysis.\n",
    "\n",
    "### **Using a Jupyter notebook** (Testing or single network)\n",
    "\n",
    "When test-driving this module, or in the case where a single network is of interest, a simple Jupyter notebook or python script can be created and run the analyses. This is the method presented here.\n",
    "\n",
    "#### Step 1 - Set up and importing the data\n",
    "The first step in running the fingerprinting analysis is to import the libraries needed and the data."
   ]
  },
  {
   "cell_type": "code",
   "execution_count": 3,
   "metadata": {},
   "outputs": [
    {
     "name": "stdout",
     "output_type": "stream",
     "text": [
      "['01a' '02a' '03a' '04a' '05a' '06a' '07a' '08a' '09a' '010a']\n"
     ]
    }
   ],
   "source": [
    "from sihnpy import fingerprinting as s_fp\n",
    "\n",
    "list_of_ids = s_fp.import_fingerprint_ids(id_list) #We give the path we got earlier to the function\n",
    "print(list_of_ids)"
   ]
  },
  {
   "cell_type": "markdown",
   "metadata": {},
   "source": [
    "The function `import_fingerprint_ids` is a general utility function wrapped around `pandas.read_csv()` and `numpy.loadtxt()` functions. It accepts files ending with `.csv`, `.tsv` and `.txt`. The script then takes the first column in the data and returns it as a list of participant that we use in the rest of the analyses.\n",
    "\n",
    "```{warning}\n",
    "The script takes the first column of the dataframe as the column containing participants' IDs **OR** takes a text file of 1 ID number per line. As such, you need to insure that your input is correct. \n",
    "\n",
    "This step is critical for the fingerprinting. If the list of participant does not match the the name of the files for the matrices, `sihnpy` will not be able to import the matrices. \n",
    "\n",
    "**You should always check that the list of ids is what is expected after a first run**\n",
    "\n",
    "```\n",
    "\n",
    "In our simulated data, we can see that we have 10 participants ranging from ID `01a` to `010a`. "
   ]
  },
  {
   "cell_type": "markdown",
   "metadata": {},
   "source": [
    "#### Step 2 - Initialize a FingerprintMats object\n",
    "\n",
    "This title sounds a bit fancy, but the idea is simple: we need to store our list of participants and the paths where to get the matrices in a single python object. I won't get in the specifics, but just know that it streamlines some processes down the line.\n",
    "\n",
    "The code is pretty simple: we just give the list of participant IDs, and the two paths to `FingerprintMats`. The code then takes this and creates prepares the field for the rest of our computations."
   ]
  },
  {
   "cell_type": "code",
   "execution_count": 4,
   "metadata": {},
   "outputs": [
    {
     "name": "stdout",
     "output_type": "stream",
     "text": [
      "/Users/stong3/Desktop/sihnpy/src/sihnpy/data/fingerprinting/matrices_simulated_mod1\n"
     ]
    }
   ],
   "source": [
    "fp_mats = s_fp.FingerprintMats(list_of_ids, path_mod1, path_mod2)\n",
    "print(path_mod1)"
   ]
  },
  {
   "cell_type": "markdown",
   "metadata": {},
   "source": [
    "#### Step 3 - Get the matrices file names and final subject selection\n",
    "\n",
    "The idea here is that we want to list all the matrix files that are available. "
   ]
  },
  {
   "cell_type": "code",
   "execution_count": 5,
   "metadata": {},
   "outputs": [
    {
     "name": "stdout",
     "output_type": "stream",
     "text": [
      "['mat_06a.txt', 'mat_07a.txt', 'mat_01a.txt', 'mat_02a.txt', 'mat_03a.txt', 'mat_010a.txt', 'mat_04a.txt', 'mat_08a.txt', 'mat_09a.txt', 'mat_05a.txt']\n",
      "['mat_06a.txt', 'mat_07a.txt', 'mat_01a.txt', 'mat_02a.txt', 'mat_03a.txt', 'mat_010a.txt', 'mat_04a.txt', 'mat_08a.txt', 'mat_09a.txt', 'mat_05a.txt']\n"
     ]
    }
   ],
   "source": [
    "fp_mats.fetch_matrice_file_names()\n",
    "print(fp_mats.files_m1)\n",
    "print(fp_mats.files_m2)"
   ]
  },
  {
   "cell_type": "markdown",
   "metadata": {},
   "source": [
    "Once we have these lists, we need to figure out which participants among these are of interest for us."
   ]
  },
  {
   "cell_type": "code",
   "execution_count": 6,
   "metadata": {},
   "outputs": [
    {
     "name": "stdout",
     "output_type": "stream",
     "text": [
      "We have 10 subjects in the list.\n",
      "We have in total 10 & 10 participants with both modalities.\n"
     ]
    }
   ],
   "source": [
    "fp_mats.subject_selection()"
   ]
  },
  {
   "cell_type": "markdown",
   "metadata": {},
   "source": [
    "Once the subject selection is done, we can move on to computing the fingerpriting.\n",
    "\n",
    "```{important}\n",
    "Currently, the script will throw errors in three situations:\n",
    "* If the number of matrices in either folders is not matching between modalities\n",
    "* If modality one and modality two is returning 0 files (the IDs from the list didn't match any file)\n",
    "* If there are duplicated matrices within modality 1 or modality 2\n",
    "\n",
    "Make sure to double check your files if you get this error.\n",
    "```"
   ]
  },
  {
   "cell_type": "markdown",
   "metadata": {},
   "source": [
    "#### Step 4 - Run the fingerprinting\n",
    "\n",
    "This function is the core of the fingerprinting method. It imports and correlates the values from the matrices from both modalities between all participants. The only argument it requires is to specify what are the nodes (i.e., columns/rows pairs) to consider in the analyses. By default, we usually fingerprint using within-network connections. Whole brain = number of columns.\n",
    "\n",
    "In the simulated data, "
   ]
  },
  {
   "cell_type": "code",
   "execution_count": null,
   "metadata": {},
   "outputs": [],
   "source": []
  },
  {
   "cell_type": "markdown",
   "metadata": {},
   "source": [
    "### **Using a command-line script** (For running multiple networks and performance issues)\n",
    "\n",
    "As it is currently written, the fingerprinting may take quite a lot more time to run depending on how many participants are included and on the size of the matrix fed to the script. In the original paper where I adapted this method I preferred using a command-line script and a high-performance cluster to run fingerprinting analyses in parallel as each fingerprint analysis for each network would take at least 2 hours. \n",
    "\n",
    "A command-line script and instructions on how to launch it on a cluster will be made available in a subsequent version."
   ]
  }
 ],
 "metadata": {
  "kernelspec": {
   "display_name": "Python 3.8.13 ('sihnpy')",
   "language": "python",
   "name": "python3"
  },
  "language_info": {
   "codemirror_mode": {
    "name": "ipython",
    "version": 3
   },
   "file_extension": ".py",
   "mimetype": "text/x-python",
   "name": "python",
   "nbconvert_exporter": "python",
   "pygments_lexer": "ipython3",
   "version": "3.9.12"
  },
  "orig_nbformat": 4,
  "vscode": {
   "interpreter": {
    "hash": "7a344b139ffddcda8568f825a864972fdeefc1fb9580b08b53c62b996ce9ea92"
   }
  }
 },
 "nbformat": 4,
 "nbformat_minor": 2
}
