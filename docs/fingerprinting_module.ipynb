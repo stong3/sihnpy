{
 "cells": [
  {
   "cell_type": "markdown",
   "metadata": {},
   "source": [
    "```{note}\n",
    "This code is under active development. Future example will include real data instead of randomly generated data.\n",
    "```"
   ]
  },
  {
   "cell_type": "markdown",
   "metadata": {},
   "source": [
    "# Fingerprinting module\n",
    "-----\n",
    "\n",
    "## 1. Introduction\n",
    "\n",
    "Many of currently used statistical analyses rely on the assumption that **brains of similar individuals are relatively homogenous**; meaning that individuals can be grouped together in relative confidence.\n",
    "\n",
    "However, many studies, mainly in the field of functional magnetic resonance imaging **(REF MUELLER/REFS FP)** have now highlighted that individuals in groups thought to be homogenous show significant within-group differences. This means that\n",
    "\n",
    "From th\n",
    "\n",
    "Fingerprinting methodology was originally developped by [Finn et al. (2015)](https://www.nature.com/articles/nn.4135) as a way to identify individuals based on the idea that each person has a unique pattern of functional connectivity preserved across tasks and time. These fingerprints were then associated with various measures (cognition **(REF)**, brain volume **(REF)**, etc.)\n"
   ]
  },
  {
   "cell_type": "code",
   "execution_count": null,
   "metadata": {},
   "outputs": [],
   "source": [
    "import numpy as np\n",
    "import pandas as pd\n",
    "\n",
    "rng = np.random.default_rng()\n",
    "\n",
    "arr1 = rng.random((5,5))\n",
    "arr2 = rng.random((5,5))\n",
    "\n",
    "\n",
    "def random_funct_mat(size):\n",
    "\n",
    "    rand_arr = rng.random(size)\n",
    "    upp_triu = np.triu(rand_arr)\n",
    "    sym_mat = upp_triu + upp_triu.T\n",
    "\n",
    "    np.fill_diagonal(sym_mat, 1)\n",
    "\n",
    "    return sym_mat\n",
    "\n",
    "\n",
    "\n",
    "data_id_age = pd.DataFrame(columns=[\"id\", \"age\"])\n",
    "\n",
    "def generate_random_fp_input(size, mod, path_output):\n",
    "    \"\"\" Simple function generating randomized fingerprinting\n",
    "    inputs of a given size.\n",
    "    \"\"\"\n",
    "\n",
    "    data_id_age = pd.DataFrame(columns=[\"id\", \"age\"])\n",
    "\n",
    "    for i in range(0,10):\n",
    "        id_name = \"0\" + f\"{i+1}\" + \"a\"\n",
    "        age = np.random.randint(60, 80)\n",
    "\n",
    "        sym_arr = random_funct_mat(size)\n",
    "\n",
    "        data_id_age.loc[i, \"id\"] = id_name\n",
    "        data_id_age.loc[i, \"age\"] = age\n",
    "        np.savetxt(f\"{path_output}/fp_{mod}_data/mat_{id_name}.txt\", sym_arr, fmt=\"%1.3f\")\n",
    "\n",
    "    data_id_age.to_csv(f\"{path_output}/id_list_{mod}.csv\")\n",
    "\n",
    "generate_random_fp_input((100,100), \"mod1\", \"/Users/stong3/Desktop\")"
   ]
  }
 ],
 "metadata": {
  "interpreter": {
   "hash": "7a344b139ffddcda8568f825a864972fdeefc1fb9580b08b53c62b996ce9ea92"
  },
  "kernelspec": {
   "display_name": "Python 3.8.13 ('sihnpy')",
   "language": "python",
   "name": "python3"
  },
  "language_info": {
   "name": "python",
   "version": "3.8.13"
  },
  "orig_nbformat": 4
 },
 "nbformat": 4,
 "nbformat_minor": 2
}
