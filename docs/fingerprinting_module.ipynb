{
 "cells": [
  {
   "cell_type": "markdown",
   "metadata": {},
   "source": [
    "# Fingerprinting module\n",
    "-----\n",
    "\n",
    "```{note}\n",
    "This code is under active development. Future example will include real data from the Prevent-AD dataset instead of randomly generated data.\n",
    "```\n",
    "\n",
    "## 1. Introduction to fingerprinting\n",
    "\n",
    "### Rationale\n",
    "\n",
    "Many of currently used statistical analyses rely on the assumption that **brains of similar individuals are relatively homogenous**; meaning that, for example, a group of 30 young individuals (18-30) can be grouped together without worrying for important differences between them. However, many studies, mainly in the field of functional magnetic resonance imaging have highlighted significant differences between individuals of the \"same\" group [^Mueller_2013] [^Finn_2015] \n",
    "\n",
    "This is what prompted the development of the original functional connectome fingerprinting (a.k.a. **fingerprinting** for the rest of this documentation) methodology by Finn et al. (2015)[^Finn_2015]. The general rationale behind **fingerprinting** is that if there is important variability between individuals in terms of brain connectivity patterns, the pattern of each individual should be unique, just like a digital fingerprint. Previous research has shown that these fingerprints are accurate **1) across time**, **2) across functional MRI tasks** and **3) when using other neuroimaging modalities**.\n",
    "\n",
    "### How it works\n",
    "\n",
    "The core idea behing **fingerprinting** is to determine how similar an individual is with themselves at a different point in time and whether this similarity is stronger the similarity between said individual and rest of the sample. This is illustrated below:\n",
    "\n",
    "(FIGURE)\n",
    "\n",
    "Just like a digital fingerprint, a brain fingerprint is good when it can reliably identify the same individual over different conditions. In our context, this is determined by whether the correlation of the brain features of the same individual is higher than the correlation of the brain features of different individuals.\n",
    "\n",
    "```{admonition} Definitions\n",
    "\n",
    "- **Fingerprinting accuracy**: whether a given individual was identified using a different brain imaging session\n",
    "- **Fingerprint strength**: within-individual correlation of two brain imaging sessions\n",
    "- **Alikeness coefficient**: between-individual correlation of two brain imaging sessions\n",
    "- **Identifiability**: definition from Amico et al. (2018)[^Amico_2018], where identifiability is the difference between the fingerprint strength and the alikeness coefficient.\n",
    "\n",
    "```\n",
    "\n",
    "### Use cases and limitations\n",
    "\n",
    "**Fingerprinting** methodology has been used with different imaging modalities including fMRI [^Finn_2015], structural and diffusion MRI [^Mansour_2021]. It has also been used with imaging taken at multiple time points for every individuals.[^Finn_2015] [^Horien_2019] \n",
    "\n",
    "Generally, **fingerprinting** can be used when you have:\n",
    "* Highly dimensional data for each individual (e.g., measurements for many brain regions across the brain for a given individual)\n",
    "* At least 2 different measurements for each individuals (either over time OR using different imaging modalities)\n",
    "\n",
    "|Strength|Limitations|\n",
    "|:-------|:-----------|\n",
    "| o Easy-to-apply individual-level measure | x Hard to interpret (unsure whether a strong correlation is good or bad)|\n",
    "| o Gives stable longitudinal measurements in cognitively unimpaired cohorts| x Hard to determine which regions contributes best to **fingerprinting**|\n",
    "\n",
    "```{warning}\n",
    "A major difficulty in interpreting **fingerprinting** measures is that very little research has indicated whether or not having high or low fingerprint measures can indicate meaningful behavioral/clinical/biomarker changes. Some research has showed that worse fingerprints were associated with mental health diagnoses[^Kaufmann_2017] [^Kaufmann_2018] and that lower brain volume was associated with lower **fingerprint strength**. [^Ousdal_2020] [^St_Onge_2022]\n",
    "\n",
    "However, it is still unclear how these fingerprints change with different diseases and disease stages. Caution should be used when interpreting the results from the fingerprinting analyses in the context of clinical applications.\n",
    "```\n",
    "\n",
    "-----\n",
    "\n",
    "\n",
    "[^Mueller_2013]: Mueller et al. (2013). Neuron. [10.1016/j.neuron.2012.12.028](https://doi.org/10.1016/j.neuron.2012.12.028)\n",
    "[^Finn_2015]: Finn et al. (2015). Nat Neuro. [10.1038/nn.4135](https://doi.org/10.1038/nn.4135)\n",
    "[^Amico_2018]: Amico et al. (2018). Sci Reports. [10.1038/s41598-018-25089-1](https://doi.org/10.1038/s41598-018-25089-1)\n",
    "[^Mansour_2021]: Mansour et al. (2021). Neuroimage. [10.1016/j.neuroimage.2020.117695](https://doi.org/10.1016/j.neuroimage.2020.117695)\n",
    "[^Horien_2019]: Horien et al. (2019). Neuroimage. [10.1016/j.neuroimage.2019.02.002](https://doi.org/10.1016/j.neuroimage.2019.02.002)\n",
    "[^Kaufmann_2017]: Kaufmann et al. (2017). Nat Neuro. [10.1038/nn.4511](https://doi.org/10.1038/nn.4511)\n",
    "[^Kaufmann_2018]: Kaufmann et al. (2018). JAMA Psychiatry. [10.1001/jamapsychiatry.2018.0844](https://doi.org/10.1001/jamapsychiatry.2018.0844)\n",
    "[^Ousdal_2020]: Ousdal et al. (2020). Hum Brain Mapp. [10.1002/hbm.24833](https://10.1002/hbm.24833)\n",
    "[^St_Onge_2022]: St-Onge et al. (2022). In revision."
   ]
  },
  {
   "cell_type": "markdown",
   "metadata": {},
   "source": [
    "## Fingerprinting analysis - Matrix-like data: step-by-step rundown\n",
    "\n",
    "We demonstrate a typical **fingerprinting** analysis using `sihnpy`. You can run these analyses by building a script like we do below in a Python script or in a Jupyter Notebook. In the case where you need to run this analysis on a high number of participants or on very high dimensional data (>160,000 features per participants), I recommend using a command-line script (ADD THE REF TO THE NOTEBOOK HERE).\n",
    "\n",
    "Note that the steps above are specific to the matrix-like data (e.g., functional or structural connectivity, covariance matrix, etc.). If you have table-like data (e.g., volume by region), a different method is required. (ADD REF TO THE NOTEBOOK HERE).\n",
    "\n",
    "### 1. Preparing the data\n",
    "\n",
    "To run a fingerprinting analysis, we need three things:\n",
    "* The path to a list of participants to analyze\n",
    "* The path to the folder containing the matrices of the first session of brain imaging\n",
    "* The path to the folder containing the matrices of the second session brain imaging\n",
    "\n",
    "If you already have the above for your data, you can skip ahead to 2. Otherwise, `sihnpy` also offers a small sample of data simulated using `numpy` and `pandas` to practice using the functions.\n",
    "\n",
    "To get the simulated data for fingerprinting, you can run the following code:"
   ]
  },
  {
   "cell_type": "code",
   "execution_count": 1,
   "metadata": {},
   "outputs": [
    {
     "name": "stdout",
     "output_type": "stream",
     "text": [
      "/Users/stong3/Desktop/sihnpy/src/sihnpy/data/fingerprinting/fp_simulated_id_list.csv\n",
      "/Users/stong3/Desktop/sihnpy/src/sihnpy/data/fingerprinting/matrices_simulated_mod1\n",
      "/Users/stong3/Desktop/sihnpy/src/sihnpy/data/fingerprinting/matrices_simulated_mod2\n"
     ]
    }
   ],
   "source": [
    "from sihnpy.datasets import get_fingerprint_simulated_data\n",
    "\n",
    "id_list, path_mod1, path_mod2 = get_fingerprint_simulated_data()"
   ]
  },
  {
   "cell_type": "markdown",
   "metadata": {},
   "source": [
    "This outputs three things:\n",
    "* The path to the list of IDs of participants (`id_list`)\n",
    "* The path to the folder containing the matrices of the first session of brain imaging (`path_mod1`)\n",
    "* The path to the folder containing the matrices of the second session of brain imaging (`path_mod2`)\n",
    "\n",
    "These are the only mandatory input necessary for the fingerprinting to launch.\n",
    "\n",
    "---\n",
    "### 2. Importing the data\n",
    "\n",
    "The first step in running the fingerprinting analysis is to import the libraries needed and the data. We use `import_fingerprint_ids` to import the list of participants. "
   ]
  },
  {
   "cell_type": "code",
   "execution_count": 3,
   "metadata": {},
   "outputs": [
    {
     "name": "stdout",
     "output_type": "stream",
     "text": [
      "['01a' '02a' '03a' '04a' '05a' '06a' '07a' '08a' '09a' '010a']\n"
     ]
    }
   ],
   "source": [
    "from sihnpy import fingerprinting as s_fp\n",
    "\n",
    "list_of_ids = s_fp.import_fingerprint_ids(id_list) #Here we put the path to the list of IDs. Since we are using data within sihnpy, we just use the variable we got earlier.\n",
    "print(list_of_ids)"
   ]
  },
  {
   "cell_type": "markdown",
   "metadata": {},
   "source": [
    "The function `import_fingerprint_ids` is a general utility function wrapped around `pandas.read_csv()` and `numpy.loadtxt()` functions. It accepts files ending with `.csv`, `.tsv` and `.txt`. The script then takes the first column in the data and returns it as a list of participant that we use in the rest of the analyses.\n",
    "\n",
    "```{warning}\n",
    "The script takes the first column of the dataframe as the column containing participants' IDs **OR** takes a text file of 1 ID number per line. As such, you need to insure that your input is correct. \n",
    "\n",
    "This step is critical for the fingerprinting. If the list of participant does not match the the name of the files for the matrices, `sihnpy` will not be able to import the matrices. \n",
    "\n",
    "**You should always check that the list of ids is what is expected after a first run**\n",
    "\n",
    "```\n",
    "\n",
    "In our simulated data, we can see that we have 10 participants ranging from ID `01a` to `010a`. "
   ]
  },
  {
   "cell_type": "markdown",
   "metadata": {},
   "source": [
    "### 3. Create a \"fingerprinting object\"\n",
    "\n",
    "This title sounds a bit fancy, but the idea is simple: we need to store our list of participants and the paths where to get the matrices in a single python object. I won't get in the specifics, but just know that it streamlines some processes down the line.\n",
    "\n",
    "The code is pretty simple: we just give the list of participant IDs, and the two paths to `FingerprintMats`. The code then takes this and creates prepares the field for the rest of our computations."
   ]
  },
  {
   "cell_type": "code",
   "execution_count": 4,
   "metadata": {},
   "outputs": [
    {
     "name": "stdout",
     "output_type": "stream",
     "text": [
      "/Users/stong3/Desktop/sihnpy/src/sihnpy/data/fingerprinting/matrices_simulated_mod1\n"
     ]
    }
   ],
   "source": [
    "fp_mats = s_fp.FingerprintMats(list_of_ids, path_mod1, path_mod2)"
   ]
  },
  {
   "cell_type": "markdown",
   "metadata": {},
   "source": [
    "### 4. File and subject selection\n",
    "\n",
    "The idea here is that we want to list and store all the names of the matrices to be used in the **fingerprinting**. This is used to simplify the process of selecting matrices when doing the **fingerprinting**.\n",
    "\n",
    "```{warning}\n",
    "As of now, the **fingerprinting** only works when there is the same number of participants in both folders. Future functionalities should allevitate this, but in the mean time, you need to make sure that there is the same number of files in both folders.\n",
    "```\n",
    "\n",
    "Do not give any argument to the function."
   ]
  },
  {
   "cell_type": "code",
   "execution_count": 5,
   "metadata": {},
   "outputs": [
    {
     "name": "stdout",
     "output_type": "stream",
     "text": [
      "['mat_06a.txt', 'mat_07a.txt', 'mat_01a.txt', 'mat_02a.txt', 'mat_03a.txt', 'mat_010a.txt', 'mat_04a.txt', 'mat_08a.txt', 'mat_09a.txt', 'mat_05a.txt']\n",
      "['mat_06a.txt', 'mat_07a.txt', 'mat_01a.txt', 'mat_02a.txt', 'mat_03a.txt', 'mat_010a.txt', 'mat_04a.txt', 'mat_08a.txt', 'mat_09a.txt', 'mat_05a.txt']\n"
     ]
    }
   ],
   "source": [
    "fp_mats.fetch_matrice_file_names()\n",
    "print(fp_mats.files_m1) #Print the file names of the first modality\n",
    "print(fp_mats.files_m2) #Print the file names of the second modality"
   ]
  },
  {
   "cell_type": "markdown",
   "metadata": {},
   "source": [
    "Once we have these lists, we intersect it with our subject list. This will confirm how many participants we will keep in the end."
   ]
  },
  {
   "cell_type": "code",
   "execution_count": 6,
   "metadata": {},
   "outputs": [
    {
     "name": "stdout",
     "output_type": "stream",
     "text": [
      "We have 10 subjects in the list.\n",
      "We have in total 10 & 10 participants with both modalities.\n"
     ]
    }
   ],
   "source": [
    "fp_mats.subject_selection()"
   ]
  },
  {
   "cell_type": "markdown",
   "metadata": {},
   "source": [
    "Once the subject selection is done, we can move on to computing the fingerpriting.\n",
    "\n",
    "```{important}\n",
    "Currently, the script will throw errors in three situations:\n",
    "* If the number of matrices in either folders is not matching between modalities\n",
    "* If modality one and modality two is returning 0 files (the IDs from the list didn't match any file)\n",
    "* If there are duplicated matrices within modality 1 or modality 2\n",
    "\n",
    "Make sure to double check your files if you get this error.\n",
    "```"
   ]
  },
  {
   "cell_type": "markdown",
   "metadata": {},
   "source": [
    "### 5. Fingerprinting \n",
    "\n",
    "This function is the core of the fingerprinting method. It imports and correlates the values from the matrices from both modalities between all participants. The only argument it requires is to specify what are the nodes (i.e., columns/rows pairs) to consider in the analyses. By default, we usually fingerprint using within-network connections. Whole brain = number of columns.\n",
    "\n",
    "In the simulated data, "
   ]
  }
 ],
 "metadata": {
  "interpreter": {
   "hash": "7a344b139ffddcda8568f825a864972fdeefc1fb9580b08b53c62b996ce9ea92"
  },
  "kernelspec": {
   "display_name": "Python 3.8.13 ('sihnpy')",
   "language": "python",
   "name": "python3"
  },
  "language_info": {
   "codemirror_mode": {
    "name": "ipython",
    "version": 3
   },
   "file_extension": ".py",
   "mimetype": "text/x-python",
   "name": "python",
   "nbconvert_exporter": "python",
   "pygments_lexer": "ipython3",
   "version": "3.8.13"
  },
  "orig_nbformat": 4,
  "vscode": {
   "interpreter": {
    "hash": "7a344b139ffddcda8568f825a864972fdeefc1fb9580b08b53c62b996ce9ea92"
   }
  }
 },
 "nbformat": 4,
 "nbformat_minor": 2
}
